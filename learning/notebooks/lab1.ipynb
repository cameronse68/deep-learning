{
 "nbformat": 4,
 "nbformat_minor": 2,
 "metadata": {
  "language_info": {
   "name": "python",
   "codemirror_mode": {
    "name": "ipython",
    "version": 3
   },
   "version": "3.7.1-final"
  },
  "orig_nbformat": 2,
  "file_extension": ".py",
  "mimetype": "text/x-python",
  "name": "python",
  "npconvert_exporter": "python",
  "pygments_lexer": "ipython3",
  "version": 3,
  "kernelspec": {
   "name": "python37164bitdlvirtualenvacda6f43192945da980010b4722f7019",
   "display_name": "Python 3.7.1 64-bit ('dl': virtualenv)"
  }
 },
 "cells": [
  {
   "cell_type": "code",
   "execution_count": 1,
   "metadata": {},
   "outputs": [
    {
     "name": "stdout",
     "output_type": "stream",
     "text": "/Users/sarahcameron/Documents/personal_git/deep-learning\n"
    }
   ],
   "source": [
    "import os \n",
    "from pathlib import Path \n",
    "try: \n",
    "    # '.' if the path is to current folder \n",
    "    os.chdir(Path(os.path.join(os.getcwd(), \".\")).parents[1]) \n",
    "    print(os.getcwd()) \n",
    "except: \n",
    "    pass\n"
   ]
  },
  {
   "cell_type": "code",
   "execution_count": 2,
   "metadata": {},
   "outputs": [],
   "source": [
    "import tensorflow as tf \n",
    "import mitdeeplearning as mdl\n",
    "\n",
    "import numpy as np\n",
    "import os\n",
    "import time\n",
    "import functools\n",
    "from IPython import display as ipythondisplay\n",
    "from tqdm import tqdm\n",
    "import logging\n",
    "logger = logging.getLogger(__name__)\n",
    "logger.addHandler(logging.NullHandler())"
   ]
  },
  {
   "cell_type": "code",
   "execution_count": 3,
   "metadata": {},
   "outputs": [],
   "source": [
    "from learning.utils.convert import vectorize_string, get_batch"
   ]
  },
  {
   "cell_type": "code",
   "execution_count": 4,
   "metadata": {},
   "outputs": [
    {
     "name": "stdout",
     "output_type": "stream",
     "text": "Found 816 songs in text\n"
    }
   ],
   "source": [
    "songs = mdl.lab1.load_training_data()\n",
    "songs_joined=\"\\n\\n\".join(songs) \n"
   ]
  },
  {
   "cell_type": "code",
   "execution_count": 5,
   "metadata": {},
   "outputs": [],
   "source": [
    "vectorized_songs=vectorize_string(songs_joined)"
   ]
  },
  {
   "cell_type": "code",
   "execution_count": 37,
   "metadata": {},
   "outputs": [],
   "source": [
    "def get_batch(vectorized_string,seq_length,batch_size):\n",
    "    n=vectorized_string.shape[0]-1\n",
    "    idx=np.random.choice(n-seq_length,batch_size)\n",
    "    inputs=[]\n",
    "    outputs=[]\n",
    "    for i in idx:\n",
    "        input_batch=np.array(vectorized_string[i:(i+seq_length)])\n",
    "        output_batch=np.array(vectorized_string[i+1:((i+seq_length)+1)])\n",
    "        inputs.append(input_batch)\n",
    "        outputs.append(output_batch)\n",
    "    x_batch = np.reshape(inputs, [batch_size, seq_length])\n",
    "    y_batch = np.reshape(outputs, [batch_size, seq_length])\n",
    "    try: \n",
    "        correct=(batch_size,seq_length)\n",
    "        assert(x_batch.shape==correct)\n",
    "    except (AssertionError) as e:\n",
    "        logger.error(\"{}\".format(type(e)))\n",
    "        raise\n",
    "    return x_batch, y_batch"
   ]
  },
  {
   "cell_type": "code",
   "execution_count": 6,
   "metadata": {},
   "outputs": [],
   "source": [
    "inputs,outputs=get_batch(vectorized_songs,4,2)\n"
   ]
  },
  {
   "cell_type": "code",
   "execution_count": null,
   "metadata": {},
   "outputs": [],
   "source": [
    "batch(vectorized_songs, 10, 2)"
   ]
  },
  {
   "cell_type": "code",
   "execution_count": null,
   "metadata": {},
   "outputs": [],
   "source": [
    "x_batch.shape"
   ]
  }
 ]
}